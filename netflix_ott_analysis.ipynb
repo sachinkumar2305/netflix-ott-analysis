{
  "nbformat": 4,
  "nbformat_minor": 0,
  "metadata": {
    "colab": {
      "provenance": [],
      "authorship_tag": "ABX9TyNvstaIX1UeNEp08JnxxhgH",
      "include_colab_link": true
    },
    "kernelspec": {
      "name": "python3",
      "display_name": "Python 3"
    },
    "language_info": {
      "name": "python"
    }
  },
  "cells": [
    {
      "cell_type": "markdown",
      "metadata": {
        "id": "view-in-github",
        "colab_type": "text"
      },
      "source": [
        "<a href=\"https://colab.research.google.com/github/sachinkumar2305/netflix-ott-analysis/blob/main/netflix_ott_analysis.ipynb\" target=\"_parent\"><img src=\"https://colab.research.google.com/assets/colab-badge.svg\" alt=\"Open In Colab\"/></a>"
      ]
    },
    {
      "cell_type": "code",
      "execution_count": null,
      "metadata": {
        "id": "wpanHXB5zPp4"
      },
      "outputs": [],
      "source": [
        "import pandas as pd\n",
        "import matplotlib.pyplot as plt\n",
        "import seaborn as sns"
      ]
    },
    {
      "cell_type": "code",
      "source": [
        "\n",
        "df = pd.read_csv(\"/content/ott_revenue.csv\")\n",
        "df.head()"
      ],
      "metadata": {
        "id": "FuyBhh8NzcCK"
      },
      "execution_count": null,
      "outputs": []
    },
    {
      "cell_type": "code",
      "source": [
        "df.drop_duplicates(inplace=True)\n",
        "df.info()\n",
        "df.isnull().sum()"
      ],
      "metadata": {
        "id": "sO_rgobiziJu"
      },
      "execution_count": null,
      "outputs": []
    },
    {
      "cell_type": "code",
      "source": [
        "df['Quarter'] = pd.to_datetime(df['Quarter'])\n",
        "df.set_index('Quarter', inplace=True)\n",
        "df['Revenue (USD)'].plot(figsize=(10,5), title='Netflix Revenue Over Time')\n",
        "plt.ylabel('Revenue (USD)')\n",
        "plt.show()"
      ],
      "metadata": {
        "id": "_XfP_QSmzkli"
      },
      "execution_count": null,
      "outputs": []
    },
    {
      "cell_type": "code",
      "source": [
        "sns.lineplot(data=df, x=df.index, y='Paid Subscribers (Millions)', hue='Region')\n",
        "plt.title('Paid Subscribers Over Time by Region')\n",
        "plt.show()"
      ],
      "metadata": {
        "id": "FooNvR4MzlmN"
      },
      "execution_count": null,
      "outputs": []
    }
  ]
}